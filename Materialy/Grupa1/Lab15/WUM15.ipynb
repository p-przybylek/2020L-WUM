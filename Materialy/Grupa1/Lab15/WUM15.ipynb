{
 "cells": [
  {
   "cell_type": "markdown",
   "metadata": {},
   "source": [
    "# Wstęp do sztucznych sieci neuronowych\n",
    "### Czym są sieci neuronowe?\n",
    "Najprościej -- uniwersalnym aproksymatorem funkcji. Mówi o tym twierdzenie Kołogomorowa, ale jako że to są ćwiczenia, nie będziemy go omawiać. To, co jest ważne, to że będziemy uczyć sieć neuronową aproksymować pewną (wybraną przez nas) funkcję.\n",
    "\n",
    "W tym miejscu pragnę zaznaczyć, że dzisiejsze zajęcia zawierają dydaktyczne oszustwa. Na potrzebę tychże zajęć zajmujemy się wyłącznie sieciami jednokierunkowymi w pełni połączonymi, dlatego nie będę zaznaczał za każdym razem \"z pewnymi wyjątkami\". Istnieje duże prawdopodobieństwo, że dla każdego ze zdań na zajęciach istnieje kontrprzykład w postaci pracy opublikowanej gdzieś na drugim końcu świata w przeciągu ostatnich 5 lat i mającej zawrotne dwa cytowania. Z tej przyczyny pozwalam sobie na uproszczenia mające na celu pokazanie ogólnego zarysu metody.\n",
    "\n",
    "### A w praktyce?\n",
    "W praktyce sieci neuronowe prezentowane są jako złożenie kombinacji liniowych i nieliniowych przekształceń. Brzmi skomplikowanie, dlatego zacznijmy bardzo prostego przykładu, sieci z jednym neuronem:\n",
    "\n",
    "\n",
    "![](https://www.researchgate.net/publication/286020106/figure/fig13/AS:328309167673363@1455286414002/Basic-artificial-neural-network-cell-artificial-neuron.png)\n",
    "Źródło: Hüseyin Ceylan, An Artificial Neural Networks Approach to Estimate\n",
    "Occupational Accident: A National Perspective for Turkey, 2014\n",
    "\n",
    "W prakyce sieci neuronowe wizualizowane są przez tego typu obrazki:\n",
    "![](https://visualstudiomagazine.com/articles/2014/11/01/~/media/ECG/visualstudiomagazine/Images/2014/11/1114vsm_mccaffreyfig2.ashx)\n",
    "Źródło: https://visualstudiomagazine.com/articles/2014/11/01/use-python-with-your-neural-networks.aspx"
   ]
  },
  {
   "cell_type": "markdown",
   "metadata": {},
   "source": [
    "Spójrzmy teraz na sieć w nieco inny sposób niż na powyższych obrazkach. Pomyślmy, jak opisać ją wzorem. Z pominięciem składowej stałej możemy powyższą sieć opisać wzorem:\n",
    "\n",
    "$$ y = W_2 \\cdot f(W_1 \\cdot x) $$\n",
    "\n",
    "Gdzie:  \n",
    "$ y $  -- wektor wyjść  \n",
    "$ x $  -- wektor wejść  \n",
    "$ f() $ -- nieliniowa funkcja $ \\mathbb{R}^n \\to \\mathbb{R}^n $  \n",
    "$ W_1 $, $ W_2 $ -- macierze wag odpowiednich warstw\n",
    "\n",
    "Dlaczego ważny jest zapis macierzowy? Komputer bardzo dobrze zrównolegla obliczenia macierzowe. W szczególności karty graficzne specjalizują się w obliczeniach macierzowych. Dlatego trening sieci na karcie graficznej jest zazwyczaj kilkadziesiąt razy szybszy niż na procesorze."
   ]
  },
  {
   "cell_type": "markdown",
   "metadata": {},
   "source": [
    "### Jak wytrenować sieć neuronową?\n",
    "Do tej pory mówiliśmy o tym, jak sieci neuronowe wyznaczają wyjście dla zadanego wejścia. Ale jak je nauczyć? Odpowiedzią jest algorytm wstecznej propagacji gradientu. Na wysokim poziomie działa to tak:\n",
    "* Dajemy sieci wejście i mówimy: zgadnij, jaka jest odpowiedź\n",
    "![](https://hmkcode.com/images/ai/bp_forward.png)\n",
    "* Sieć zwraca nam wyjście, a my liczymy ile się pomyliła\n",
    "![](https://hmkcode.com/images/ai/bp_error.png)\n",
    "* Wyznaczamy różniczki błędu po poszczególnych wagach. Liczymy to w dość sprytny sposób, ale nie będziemy się w to teraz wgłębiać\n",
    "* Znając tę różniczki, możemy powiedzieć jak mocno poszczególne wagi wpłynęły na uzyskany błąd. Dlatego aktualizujemy wagi według wzoru:\n",
    "$$ W_{k, i, j} = W_{k, i, j} - a \\cdot {{\\partial E}\\over{\\partial W_{k, i, j}}}$$\n",
    "Gdzie:  \n",
    "$W_{k, i, j}$ -- waga połączenia z $i$-tego neuronu $k-1$ warstwy do $j$-tego neuronu $k$-tej warstwy  \n",
    "$E$ -- obliczona \"różnica\" między wartością zwróconą a tą, której się spodziewaliśmy  \n",
    "$a$ -- stała uczenia\n",
    "\n",
    "W rzeczywistości takie uczenie byłoby bardzo niestabilne, ponieważ każdy punkt ze zbioru uczącego \"ciągnąłby\" parametry w swoją stronę. Dlatego uczymy w tak zwanych batchach składających się z kilkunastu -- kilkuset punktów jednocześnie. Pochodne obliczone dla każdego z punktów z batcha dodajemy do siebie i otrzymujemy \"średni kierunek poprawiający\". W tej sposób sieć uczy się znacznie bardziej stabilnie."
   ]
  },
  {
   "cell_type": "markdown",
   "metadata": {},
   "source": [
    "### A jak to zaprogramować?\n",
    "* Można napisać wszystko ręcznie -- zapewne czeka Was jeszcze taki projekt.\n",
    "* Można skorzystać z dedykowanych bibliotek, na przykład `pytorch`, `tensorflow` czy `keras` \n",
    "* Można skorzystać z `sklearn.neural_network`"
   ]
  },
  {
   "cell_type": "markdown",
   "metadata": {},
   "source": [
    "### Przykład 1. -- klasyfikacja\n",
    "W związku z tym, że sieć neuronowa może mieć wiele wyjść, bardzo naturalne jest jej wykorzystanie do zadania klasyfikacji wieloklasowej. Pomysł jest taki, żeby $i$-te wyjście mówiło o prawdopodobieństwie przynależności do $i$-tej klasy. Aby to osiągnąć, normalizuje się wyjścia funkcją sofmax:\n",
    "$$ {{e^{y_i}}\\over {\\sum_{j=1}^K e^{y_j}}} $$\n",
    "\n",
    "Gdzie:  \n",
    "$y_i$ -- $i$-te wyjście  \n",
    "$K$ -- liczba klas"
   ]
  },
  {
   "cell_type": "markdown",
   "metadata": {},
   "source": [
    "Zbiór mnist zawiera ręcznie pisane cyfry.\n",
    "![](https://upload.wikimedia.org/wikipedia/commons/2/27/MnistExamples.png)\n",
    "Żródło: https://en.wikipedia.org/wiki/MNIST_database"
   ]
  },
  {
   "cell_type": "code",
   "execution_count": 34,
   "metadata": {},
   "outputs": [],
   "source": [
    "import matplotlib.pyplot as plt\n",
    "from sklearn.datasets import fetch_openml\n",
    "from sklearn.neural_network import MLPClassifier, MLPRegressor\n",
    "from sklearn.model_selection import train_test_split\n",
    "from sklearn.metrics import confusion_matrix\n",
    "import seaborn as sn\n",
    "import numpy as np\n",
    "import pandas as pd\n",
    "from itertools import product"
   ]
  },
  {
   "cell_type": "code",
   "execution_count": 127,
   "metadata": {},
   "outputs": [],
   "source": [
    "X, y = fetch_openml('mnist_784', version=1, return_X_y=True)\n",
    "X = X / 255.\n",
    "y = [int(i) for i in y] \n",
    "\n",
    "X_train, X_test, y_train, y_test = train_test_split(X, y, test_size=10000, random_state=1)"
   ]
  },
  {
   "cell_type": "code",
   "execution_count": 156,
   "metadata": {},
   "outputs": [],
   "source": [
    "mlp = MLPClassifier(hidden_layer_sizes=(128,), max_iter=100, solver='sgd', verbose=10, random_state=123,\n",
    "                    learning_rate_init=.1, alpha=0.00001)"
   ]
  },
  {
   "cell_type": "code",
   "execution_count": 157,
   "metadata": {},
   "outputs": [
    {
     "name": "stdout",
     "output_type": "stream",
     "text": [
      "Iteration 1, loss = 0.28346370\n",
      "Iteration 2, loss = 0.11896459\n",
      "Iteration 3, loss = 0.08335229\n",
      "Iteration 4, loss = 0.06606909\n",
      "Iteration 5, loss = 0.05358032\n",
      "Iteration 6, loss = 0.04287490\n",
      "Iteration 7, loss = 0.03655472\n",
      "Iteration 8, loss = 0.02910649\n",
      "Iteration 9, loss = 0.02420177\n",
      "Iteration 10, loss = 0.02061443\n",
      "Iteration 11, loss = 0.01525255\n",
      "Iteration 12, loss = 0.01271290\n",
      "Iteration 13, loss = 0.01061340\n",
      "Iteration 14, loss = 0.00876194\n",
      "Iteration 15, loss = 0.00689842\n",
      "Iteration 16, loss = 0.00573134\n",
      "Iteration 17, loss = 0.00506259\n",
      "Iteration 18, loss = 0.00432358\n",
      "Iteration 19, loss = 0.00357081\n",
      "Iteration 20, loss = 0.00313156\n",
      "Iteration 21, loss = 0.00288547\n",
      "Iteration 22, loss = 0.00252083\n",
      "Iteration 23, loss = 0.00227338\n",
      "Iteration 24, loss = 0.00209070\n",
      "Iteration 25, loss = 0.00194695\n",
      "Iteration 26, loss = 0.00179541\n",
      "Iteration 27, loss = 0.00167372\n",
      "Iteration 28, loss = 0.00159260\n",
      "Iteration 29, loss = 0.00148421\n",
      "Iteration 30, loss = 0.00139501\n",
      "Iteration 31, loss = 0.00132754\n",
      "Iteration 32, loss = 0.00126263\n",
      "Iteration 33, loss = 0.00119698\n",
      "Iteration 34, loss = 0.00114780\n",
      "Iteration 35, loss = 0.00109432\n",
      "Iteration 36, loss = 0.00105325\n",
      "Iteration 37, loss = 0.00101013\n",
      "Iteration 38, loss = 0.00097260\n",
      "Iteration 39, loss = 0.00093863\n",
      "Iteration 40, loss = 0.00091061\n",
      "Training loss did not improve more than tol=0.000100 for 10 consecutive epochs. Stopping.\n"
     ]
    },
    {
     "data": {
      "text/plain": [
       "MLPClassifier(activation='relu', alpha=1e-05, batch_size='auto', beta_1=0.9,\n",
       "              beta_2=0.999, early_stopping=False, epsilon=1e-08,\n",
       "              hidden_layer_sizes=(128,), learning_rate='constant',\n",
       "              learning_rate_init=0.1, max_fun=15000, max_iter=100, momentum=0.9,\n",
       "              n_iter_no_change=10, nesterovs_momentum=True, power_t=0.5,\n",
       "              random_state=123, shuffle=True, solver='sgd', tol=0.0001,\n",
       "              validation_fraction=0.1, verbose=10, warm_start=False)"
      ]
     },
     "execution_count": 157,
     "metadata": {},
     "output_type": "execute_result"
    }
   ],
   "source": [
    "mlp.fit(X_train, y_train)"
   ]
  },
  {
   "cell_type": "code",
   "execution_count": 158,
   "metadata": {},
   "outputs": [
    {
     "name": "stdout",
     "output_type": "stream",
     "text": [
      "Training set score: 1.0\n",
      "Test set score: 0.98\n"
     ]
    }
   ],
   "source": [
    "print(f\"Training set score: {mlp.score(X_train, y_train):.3}\")\n",
    "print(f\"Test set score: {mlp.score(X_test, y_test):.3}\")"
   ]
  },
  {
   "cell_type": "code",
   "execution_count": 159,
   "metadata": {},
   "outputs": [
    {
     "data": {
      "text/plain": [
       "<matplotlib.axes._subplots.AxesSubplot at 0x7f3042736400>"
      ]
     },
     "execution_count": 159,
     "metadata": {},
     "output_type": "execute_result"
    },
    {
     "data": {
      "image/png": "[encoded data removed]",
      "text/plain": [
       "<Figure size 1080x864 with 2 Axes>"
      ]
     },
     "metadata": {
      "needs_background": "light"
     },
     "output_type": "display_data"
    }
   ],
   "source": [
    "y_pred = mlp.predict(X_test)\n",
    "conf_m = confusion_matrix(y_test, y_pred)\n",
    "\n",
    "mask = np.ones(conf_m.shape, dtype=bool)\n",
    "np.fill_diagonal(mask, 0)\n",
    "max_value = conf_m[mask].max()\n",
    "\n",
    "plt.figure(figsize = (15,12))\n",
    "sn.heatmap(conf_m, annot=True, vmax=max_value)\n",
    "# conf_m"
   ]
  },
  {
   "cell_type": "code",
   "execution_count": 160,
   "metadata": {},
   "outputs": [],
   "source": [
    "labels_df = pd.DataFrame(zip(y_pred, y_test), columns=['pred', 'real'], dtype=int)"
   ]
  },
  {
   "cell_type": "code",
   "execution_count": 161,
   "metadata": {},
   "outputs": [
    {
     "data": {
      "text/plain": [
       "(30, 2)"
      ]
     },
     "execution_count": 161,
     "metadata": {},
     "output_type": "execute_result"
    }
   ],
   "source": [
    "pred_9_df = labels_df[labels_df['pred'] == 9]\n",
    "wrong_9_preds = pred_9_df[pred_9_df['real'] != 9]\n",
    "wrong_9_preds.shape"
   ]
  },
  {
   "cell_type": "code",
   "execution_count": 166,
   "metadata": {},
   "outputs": [
    {
     "data": {
      "image/png": "[encoded data removed]",
      "text/plain": [
       "<Figure size 720x720 with 30 Axes>"
      ]
     },
     "metadata": {
      "needs_background": "light"
     },
     "output_type": "display_data"
    }
   ],
   "source": [
    "nrows = 5\n",
    "ncols = 6\n",
    "figure, axes = plt.subplots(nrows=nrows, ncols=ncols)\n",
    "figure.set_figheight(10)\n",
    "figure.set_figwidth(10)\n",
    "figspace = product(range(nrows), range(ncols))\n",
    "\n",
    "for (idx, _), (row, col) in zip(wrong_9_preds.iterrows(), figspace):\n",
    "    img = X_test[idx]\n",
    "    img = img.reshape((28, 28))\n",
    "    axes[row, col].imshow(img)\n",
    "figure.tight_layout()"
   ]
  },
  {
   "cell_type": "markdown",
   "metadata": {},
   "source": [
    "### Przykład 2. -- redukcja wymiarów\n",
    "Sieci neuronowe można stosować też w innych zadaniach. Na przykład w zadaniu redukcji wymiarów. Używa się do tego tak zwanych autoenkoderów.\n",
    "![](https://blog.paperspace.com/content/images/size/w2000/2020/01/1_oUbsOnYKX5DEpMOK3pH_lg.png)\n",
    "Źródło: https://blog.paperspace.com/autoencoder-image-compression-keras/"
   ]
  },
  {
   "cell_type": "code",
   "execution_count": 114,
   "metadata": {},
   "outputs": [],
   "source": [
    "from keras.layers import Input, Dense\n",
    "from keras.models import Model\n",
    "\n",
    "encoding_dim = 64\n",
    "\n",
    "input_img = Input(shape=(784,))\n",
    "encoded = Dense(encoding_dim, activation='relu')(input_img)\n",
    "decoded = Dense(784, activation='sigmoid')(encoded)\n",
    "\n",
    "autoencoder = Model(input_img, decoded)\n",
    "encoder = Model(input_img, encoded)\n",
    "\n",
    "encoded_input = Input(shape=(encoding_dim,))\n",
    "decoder_layer = autoencoder.layers[-1]\n",
    "decoder = Model(encoded_input, decoder_layer(encoded_input))"
   ]
  },
  {
   "cell_type": "code",
   "execution_count": 120,
   "metadata": {},
   "outputs": [],
   "source": [
    "autoencoder.compile(optimizer='adadelta', loss='binary_crossentropy')"
   ]
  },
  {
   "cell_type": "code",
   "execution_count": 121,
   "metadata": {},
   "outputs": [
    {
     "name": "stdout",
     "output_type": "stream",
     "text": [
      "(60000, 784)\n",
      "(10000, 784)\n"
     ]
    }
   ],
   "source": [
    "from keras.datasets import mnist\n",
    "import numpy as np\n",
    "(x_train, _), (x_test, _) = mnist.load_data()\n",
    "\n",
    "x_train = x_train.astype('float32') / 255.\n",
    "x_test = x_test.astype('float32') / 255.\n",
    "x_train = x_train.reshape((len(x_train), np.prod(x_train.shape[1:])))\n",
    "x_test = x_test.reshape((len(x_test), np.prod(x_test.shape[1:])))\n",
    "print(x_train.shape)\n",
    "print(x_test.shape)"
   ]
  },
  {
   "cell_type": "code",
   "execution_count": 122,
   "metadata": {},
   "outputs": [
    {
     "name": "stdout",
     "output_type": "stream",
     "text": [
      "Train on 60000 samples, validate on 10000 samples\n",
      "Epoch 1/100\n",
      "60000/60000 [==============================] - 1s 21us/step - loss: 0.2538 - val_loss: 0.2391\n",
      "Epoch 2/100\n",
      "60000/60000 [==============================] - 1s 20us/step - loss: 0.2285 - val_loss: 0.2163\n",
      "Epoch 3/100\n",
      "60000/60000 [==============================] - 1s 20us/step - loss: 0.2095 - val_loss: 0.2005\n",
      "Epoch 4/100\n",
      "60000/60000 [==============================] - 1s 20us/step - loss: 0.1960 - val_loss: 0.1891\n",
      "Epoch 5/100\n",
      "60000/60000 [==============================] - 1s 20us/step - loss: 0.1858 - val_loss: 0.1801\n",
      "Epoch 6/100\n",
      "60000/60000 [==============================] - 1s 20us/step - loss: 0.1775 - val_loss: 0.1723\n",
      "Epoch 7/100\n",
      "60000/60000 [==============================] - 1s 20us/step - loss: 0.1704 - val_loss: 0.1658\n",
      "Epoch 8/100\n",
      "60000/60000 [==============================] - 1s 20us/step - loss: 0.1642 - val_loss: 0.1600\n",
      "Epoch 9/100\n",
      "60000/60000 [==============================] - 1s 21us/step - loss: 0.1587 - val_loss: 0.1547\n",
      "Epoch 10/100\n",
      "60000/60000 [==============================] - 1s 22us/step - loss: 0.1537 - val_loss: 0.1501\n",
      "Epoch 11/100\n",
      "60000/60000 [==============================] - 1s 21us/step - loss: 0.1492 - val_loss: 0.1456\n",
      "Epoch 12/100\n",
      "60000/60000 [==============================] - 1s 22us/step - loss: 0.1451 - val_loss: 0.1417\n",
      "Epoch 13/100\n",
      "60000/60000 [==============================] - 1s 21us/step - loss: 0.1413 - val_loss: 0.1381\n",
      "Epoch 14/100\n",
      "60000/60000 [==============================] - 1s 21us/step - loss: 0.1378 - val_loss: 0.1347\n",
      "Epoch 15/100\n",
      "60000/60000 [==============================] - 1s 21us/step - loss: 0.1346 - val_loss: 0.1316\n",
      "Epoch 16/100\n",
      "60000/60000 [==============================] - 1s 20us/step - loss: 0.1316 - val_loss: 0.1288\n",
      "Epoch 17/100\n",
      "60000/60000 [==============================] - 1s 20us/step - loss: 0.1288 - val_loss: 0.1259\n",
      "Epoch 18/100\n",
      "60000/60000 [==============================] - 1s 21us/step - loss: 0.1262 - val_loss: 0.1234\n",
      "Epoch 19/100\n",
      "60000/60000 [==============================] - 1s 21us/step - loss: 0.1237 - val_loss: 0.1210\n",
      "Epoch 20/100\n",
      "60000/60000 [==============================] - 1s 21us/step - loss: 0.1214 - val_loss: 0.1187\n",
      "Epoch 21/100\n",
      "60000/60000 [==============================] - 1s 20us/step - loss: 0.1192 - val_loss: 0.1166\n",
      "Epoch 22/100\n",
      "60000/60000 [==============================] - 1s 21us/step - loss: 0.1171 - val_loss: 0.1146\n",
      "Epoch 23/100\n",
      "60000/60000 [==============================] - 1s 20us/step - loss: 0.1152 - val_loss: 0.1127\n",
      "Epoch 24/100\n",
      "60000/60000 [==============================] - 1s 21us/step - loss: 0.1133 - val_loss: 0.1110\n",
      "Epoch 25/100\n",
      "60000/60000 [==============================] - 1s 22us/step - loss: 0.1116 - val_loss: 0.1093\n",
      "Epoch 26/100\n",
      "60000/60000 [==============================] - 1s 22us/step - loss: 0.1101 - val_loss: 0.1078\n",
      "Epoch 27/100\n",
      "60000/60000 [==============================] - 1s 21us/step - loss: 0.1086 - val_loss: 0.1063\n",
      "Epoch 28/100\n",
      "60000/60000 [==============================] - 1s 21us/step - loss: 0.1072 - val_loss: 0.1050\n",
      "Epoch 29/100\n",
      "60000/60000 [==============================] - 1s 21us/step - loss: 0.1059 - val_loss: 0.1038\n",
      "Epoch 30/100\n",
      "60000/60000 [==============================] - 1s 22us/step - loss: 0.1047 - val_loss: 0.1026\n",
      "Epoch 31/100\n",
      "60000/60000 [==============================] - 1s 21us/step - loss: 0.1036 - val_loss: 0.1016\n",
      "Epoch 32/100\n",
      "60000/60000 [==============================] - 1s 21us/step - loss: 0.1025 - val_loss: 0.1005\n",
      "Epoch 33/100\n",
      "60000/60000 [==============================] - 1s 20us/step - loss: 0.1016 - val_loss: 0.0996\n",
      "Epoch 34/100\n",
      "60000/60000 [==============================] - 1s 21us/step - loss: 0.1006 - val_loss: 0.0987\n",
      "Epoch 35/100\n",
      "60000/60000 [==============================] - 1s 21us/step - loss: 0.0998 - val_loss: 0.0979\n",
      "Epoch 36/100\n",
      "60000/60000 [==============================] - 1s 20us/step - loss: 0.0989 - val_loss: 0.0971\n",
      "Epoch 37/100\n",
      "60000/60000 [==============================] - 1s 20us/step - loss: 0.0982 - val_loss: 0.0963\n",
      "Epoch 38/100\n",
      "60000/60000 [==============================] - 1s 21us/step - loss: 0.0974 - val_loss: 0.0957\n",
      "Epoch 39/100\n",
      "60000/60000 [==============================] - 1s 21us/step - loss: 0.0967 - val_loss: 0.0950\n",
      "Epoch 40/100\n",
      "60000/60000 [==============================] - 1s 21us/step - loss: 0.0961 - val_loss: 0.0944\n",
      "Epoch 41/100\n",
      "60000/60000 [==============================] - 1s 21us/step - loss: 0.0955 - val_loss: 0.0938\n",
      "Epoch 42/100\n",
      "60000/60000 [==============================] - 1s 21us/step - loss: 0.0949 - val_loss: 0.0932\n",
      "Epoch 43/100\n",
      "60000/60000 [==============================] - 1s 21us/step - loss: 0.0943 - val_loss: 0.0927\n",
      "Epoch 44/100\n",
      "60000/60000 [==============================] - 1s 20us/step - loss: 0.0938 - val_loss: 0.0922\n",
      "Epoch 45/100\n",
      "60000/60000 [==============================] - 1s 21us/step - loss: 0.0933 - val_loss: 0.0917\n",
      "Epoch 46/100\n",
      "60000/60000 [==============================] - 1s 21us/step - loss: 0.0928 - val_loss: 0.0912\n",
      "Epoch 47/100\n",
      "60000/60000 [==============================] - 1s 20us/step - loss: 0.0924 - val_loss: 0.0908\n",
      "Epoch 48/100\n",
      "60000/60000 [==============================] - 1s 21us/step - loss: 0.0919 - val_loss: 0.0903\n",
      "Epoch 49/100\n",
      "60000/60000 [==============================] - 1s 21us/step - loss: 0.0915 - val_loss: 0.0899\n",
      "Epoch 50/100\n",
      "60000/60000 [==============================] - 1s 21us/step - loss: 0.0911 - val_loss: 0.0896\n",
      "Epoch 51/100\n",
      "60000/60000 [==============================] - 1s 21us/step - loss: 0.0907 - val_loss: 0.0892\n",
      "Epoch 52/100\n",
      "60000/60000 [==============================] - 1s 21us/step - loss: 0.0903 - val_loss: 0.0888\n",
      "Epoch 53/100\n",
      "60000/60000 [==============================] - 1s 21us/step - loss: 0.0900 - val_loss: 0.0885\n",
      "Epoch 54/100\n",
      "60000/60000 [==============================] - 1s 21us/step - loss: 0.0896 - val_loss: 0.0882\n",
      "Epoch 55/100\n",
      "60000/60000 [==============================] - 1s 22us/step - loss: 0.0893 - val_loss: 0.0879\n",
      "Epoch 56/100\n",
      "60000/60000 [==============================] - 1s 20us/step - loss: 0.0890 - val_loss: 0.0876\n",
      "Epoch 57/100\n",
      "60000/60000 [==============================] - 1s 21us/step - loss: 0.0887 - val_loss: 0.0873\n",
      "Epoch 58/100\n",
      "60000/60000 [==============================] - 1s 21us/step - loss: 0.0884 - val_loss: 0.0870\n",
      "Epoch 59/100\n",
      "60000/60000 [==============================] - 1s 21us/step - loss: 0.0881 - val_loss: 0.0867\n",
      "Epoch 60/100\n",
      "60000/60000 [==============================] - 1s 20us/step - loss: 0.0878 - val_loss: 0.0864\n",
      "Epoch 61/100\n",
      "60000/60000 [==============================] - 1s 21us/step - loss: 0.0876 - val_loss: 0.0862\n",
      "Epoch 62/100\n",
      "60000/60000 [==============================] - 1s 20us/step - loss: 0.0873 - val_loss: 0.0860\n",
      "Epoch 63/100\n",
      "60000/60000 [==============================] - 1s 20us/step - loss: 0.0871 - val_loss: 0.0857\n",
      "Epoch 64/100\n",
      "60000/60000 [==============================] - 1s 20us/step - loss: 0.0868 - val_loss: 0.0855\n",
      "Epoch 65/100\n",
      "60000/60000 [==============================] - 1s 20us/step - loss: 0.0866 - val_loss: 0.0853\n",
      "Epoch 66/100\n",
      "60000/60000 [==============================] - 1s 21us/step - loss: 0.0864 - val_loss: 0.0850\n",
      "Epoch 67/100\n",
      "60000/60000 [==============================] - 1s 21us/step - loss: 0.0861 - val_loss: 0.0848\n",
      "Epoch 68/100\n",
      "60000/60000 [==============================] - 1s 21us/step - loss: 0.0859 - val_loss: 0.0846\n",
      "Epoch 69/100\n",
      "60000/60000 [==============================] - 1s 20us/step - loss: 0.0857 - val_loss: 0.0844\n",
      "Epoch 70/100\n",
      "60000/60000 [==============================] - 1s 20us/step - loss: 0.0855 - val_loss: 0.0842\n",
      "Epoch 71/100\n",
      "60000/60000 [==============================] - 1s 20us/step - loss: 0.0853 - val_loss: 0.0840\n",
      "Epoch 72/100\n",
      "60000/60000 [==============================] - 1s 20us/step - loss: 0.0851 - val_loss: 0.0839\n",
      "Epoch 73/100\n",
      "60000/60000 [==============================] - 1s 21us/step - loss: 0.0849 - val_loss: 0.0837\n",
      "Epoch 74/100\n",
      "60000/60000 [==============================] - 1s 21us/step - loss: 0.0848 - val_loss: 0.0835\n",
      "Epoch 75/100\n",
      "60000/60000 [==============================] - 1s 20us/step - loss: 0.0846 - val_loss: 0.0833\n",
      "Epoch 76/100\n",
      "60000/60000 [==============================] - 1s 21us/step - loss: 0.0844 - val_loss: 0.0832\n",
      "Epoch 77/100\n"
     ]
    },
    {
     "name": "stdout",
     "output_type": "stream",
     "text": [
      "60000/60000 [==============================] - 1s 20us/step - loss: 0.0842 - val_loss: 0.0830\n",
      "Epoch 78/100\n",
      "60000/60000 [==============================] - 1s 20us/step - loss: 0.0841 - val_loss: 0.0828\n",
      "Epoch 79/100\n",
      "60000/60000 [==============================] - 1s 20us/step - loss: 0.0839 - val_loss: 0.0827\n",
      "Epoch 80/100\n",
      "60000/60000 [==============================] - 1s 21us/step - loss: 0.0838 - val_loss: 0.0825\n",
      "Epoch 81/100\n",
      "60000/60000 [==============================] - 1s 20us/step - loss: 0.0836 - val_loss: 0.0824\n",
      "Epoch 82/100\n",
      "60000/60000 [==============================] - 1s 20us/step - loss: 0.0834 - val_loss: 0.0823\n",
      "Epoch 83/100\n",
      "60000/60000 [==============================] - 1s 20us/step - loss: 0.0833 - val_loss: 0.0821\n",
      "Epoch 84/100\n",
      "60000/60000 [==============================] - 1s 20us/step - loss: 0.0832 - val_loss: 0.0820\n",
      "Epoch 85/100\n",
      "60000/60000 [==============================] - 1s 21us/step - loss: 0.0830 - val_loss: 0.0818\n",
      "Epoch 86/100\n",
      "60000/60000 [==============================] - 1s 21us/step - loss: 0.0829 - val_loss: 0.0817\n",
      "Epoch 87/100\n",
      "60000/60000 [==============================] - 1s 20us/step - loss: 0.0827 - val_loss: 0.0816\n",
      "Epoch 88/100\n",
      "60000/60000 [==============================] - 1s 21us/step - loss: 0.0826 - val_loss: 0.0815\n",
      "Epoch 89/100\n",
      "60000/60000 [==============================] - 1s 20us/step - loss: 0.0825 - val_loss: 0.0813\n",
      "Epoch 90/100\n",
      "60000/60000 [==============================] - 1s 21us/step - loss: 0.0824 - val_loss: 0.0812\n",
      "Epoch 91/100\n",
      "60000/60000 [==============================] - 1s 20us/step - loss: 0.0822 - val_loss: 0.0811\n",
      "Epoch 92/100\n",
      "60000/60000 [==============================] - 1s 20us/step - loss: 0.0821 - val_loss: 0.0810\n",
      "Epoch 93/100\n",
      "60000/60000 [==============================] - 1s 21us/step - loss: 0.0820 - val_loss: 0.0809\n",
      "Epoch 94/100\n",
      "60000/60000 [==============================] - 1s 21us/step - loss: 0.0819 - val_loss: 0.0808\n",
      "Epoch 95/100\n",
      "60000/60000 [==============================] - 1s 21us/step - loss: 0.0818 - val_loss: 0.0807\n",
      "Epoch 96/100\n",
      "60000/60000 [==============================] - 1s 21us/step - loss: 0.0817 - val_loss: 0.0806\n",
      "Epoch 97/100\n",
      "60000/60000 [==============================] - 1s 21us/step - loss: 0.0816 - val_loss: 0.0804\n",
      "Epoch 98/100\n",
      "60000/60000 [==============================] - 1s 22us/step - loss: 0.0814 - val_loss: 0.0803\n",
      "Epoch 99/100\n",
      "60000/60000 [==============================] - 1s 21us/step - loss: 0.0813 - val_loss: 0.0802\n",
      "Epoch 100/100\n",
      "60000/60000 [==============================] - 1s 20us/step - loss: 0.0812 - val_loss: 0.0802\n"
     ]
    },
    {
     "data": {
      "text/plain": [
       "<keras.callbacks.callbacks.History at 0x7f30423cecf8>"
      ]
     },
     "execution_count": 122,
     "metadata": {},
     "output_type": "execute_result"
    }
   ],
   "source": [
    "autoencoder.fit(x_train, x_train,\n",
    "                epochs=100,\n",
    "                batch_size=256,\n",
    "                shuffle=True,\n",
    "                validation_data=(x_test, x_test))\n"
   ]
  },
  {
   "cell_type": "code",
   "execution_count": 123,
   "metadata": {},
   "outputs": [],
   "source": [
    "encoded_imgs = encoder.predict(x_test)\n",
    "decoded_imgs = decoder.predict(encoded_imgs)"
   ]
  },
  {
   "cell_type": "code",
   "execution_count": 124,
   "metadata": {},
   "outputs": [
    {
     "data": {
      "image/png": "[encoded data removed]",
      "text/plain": [
       "<Figure size 1440x288 with 20 Axes>"
      ]
     },
     "metadata": {
      "needs_background": "light"
     },
     "output_type": "display_data"
    }
   ],
   "source": [
    "import matplotlib.pyplot as plt\n",
    "\n",
    "n = 10\n",
    "plt.figure(figsize=(20, 4))\n",
    "for i in range(n):\n",
    "    ax = plt.subplot(2, n, i + 1)\n",
    "    plt.imshow(x_test[i].reshape(28, 28))\n",
    "    plt.gray()\n",
    "    ax.get_xaxis().set_visible(False)\n",
    "    ax.get_yaxis().set_visible(False)\n",
    "\n",
    "    ax = plt.subplot(2, n, i + 1 + n)\n",
    "    plt.imshow(decoded_imgs[i].reshape(28, 28))\n",
    "    plt.gray()\n",
    "    ax.get_xaxis().set_visible(False)\n",
    "    ax.get_yaxis().set_visible(False)\n",
    "plt.show()"
   ]
  },
  {
   "cell_type": "markdown",
   "metadata": {},
   "source": [
    "### Kiedy używać sieci neuronowych:\n",
    "\n",
    "1. Kiedy mamy duży zbiór danych\n",
    "2. W zadaniach podobnych do tych, w których ktoś już z powodzeniem użył sieci neuronowych\n",
    "3. Jeśli istnieją architektury dostosowane do naszego problemu\n",
    "4. Kiedy nie zależy nam na interpretowalności\n",
    "5. Gdy mamy dostępną dużą moc obliczeniową do treningu\n",
    "6. Kiedy mamy dużo czasu na przygotowanie modelu\n",
    "7. Gdy rozwiązanie na produkcji nie musi działać bardzo szybko lub jesteśmy w stanie zapewnić dużą moc obliczeniowa również na produkcję\n",
    "8. Gdy zależy nam na (pewnej) odporności na szum na wejściu\n",
    "9. Jeśli chcemy \"wyciągnąć\" reprezentację z warstwy ukrytej\n",
    "10. Jeśli zależy nam na pewnej elastyczności wynikającej z modularnej budowy"
   ]
  }
 ],
 "metadata": {
  "kernelspec": {
   "display_name": "Python 3",
   "language": "python",
   "name": "python3"
  },
  "language_info": {
   "codemirror_mode": {
    "name": "ipython",
    "version": 3
   },
   "file_extension": ".py",
   "mimetype": "text/x-python",
   "name": "python",
   "nbconvert_exporter": "python",
   "pygments_lexer": "ipython3",
   "version": "3.6.8"
  }
 },
 "nbformat": 4,
 "nbformat_minor": 4
}
