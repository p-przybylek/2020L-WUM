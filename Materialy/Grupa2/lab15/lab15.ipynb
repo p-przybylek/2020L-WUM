{
 "cells": [
  {
   "cell_type": "markdown",
   "metadata": {},
   "source": [
    "# Lab 15\n",
    "- Analiza koszykowa \n",
    "- Systemy rekomendacyjne"
   ]
  },
  {
   "attachments": {},
   "cell_type": "markdown",
   "metadata": {},
   "source": [
    "## Analiza koszykowa\n",
    "Analiza koszykowa to dosłownie analiza koszyka zakupowego klienta w sklepie internetowym lub w sklepie stacjonarnym. Staramy się znaleźć reguły zakupowe i powiązania między produktami, tak aby usprawnić sprzedaż.\n",
    "\n",
    "W czym może to pomóć?\n",
    "- Optymalizacja rozkładu produktów na półkach\n",
    "- Sprzedaż akcesoriów do danego produktu np. laptopa\n",
    "![image.png](./fig/basket_sample.png)\n",
    "- Personalizowane kampanie marketingowe po dokonaniu jakiś zakupów"
   ]
  },
  {
   "cell_type": "markdown",
   "metadata": {},
   "source": [
    "### Algorytm Apriori\n",
    "Algorytm pozwalający w bardzo prosty sposób wyciągnąć dużo informacji o regułach zakupowych ze zbioru danych zawierającego transakcje klientów. Jego głównym założeniem jest to że jeżeli zbiór produktów jest \"częsty\" to dowolny podzbiór tych produktów również musi często występować. Aby zrozumieć jak działa przedstawimy sobie przykład:\n",
    "\n",
    "Zbiór 6 transakcji dokonanych w sklepie spożywczym:\n",
    "\n",
    "| Transaction ID | Jajka | Mleko | Mąka | Śmietana |\n",
    "|----------------|-------|-------|------|----------|\n",
    "| 1              | 1     | 1     | 0    | 1        |\n",
    "| 2              | 0     | 0     | 1    | 0        |\n",
    "| 3              | 0     | 0     | 1    | 0        |\n",
    "| 4              | 0     | 1     | 1    | 0        |\n",
    "| 5              | 1     | 1     | 1    | 0        |\n",
    "| 6              | 1     | 0     | 0    | 1        |\n",
    "\n",
    "#### Support\n",
    "Domyślna \"popularność\" produktu lub zbioru produktów w danym sklepie.\n",
    "\n",
    "$$supp(A) = \\frac{\\text{# transakcji z A}}{\\text{# wszystkich transakcji}}$$\n",
    "\n",
    "$supp({Jajka}) = \\frac{3}{5} = 0.6$\n",
    "\n",
    "$supp({Mleko}) = \\frac{3}{5} = 0.6$\n",
    "\n",
    "$supp({Mąka}) = \\frac{4}{5} = 0.8$\n",
    "\n",
    "$supp({Śmietana}) = \\frac{2}{5} = 0.4$\n",
    "\n",
    "$supp({Jajka,Mleko}) = \\frac{2}{5} = 0.4$\n",
    "\n",
    "$supp({Mleko,Mąka, Śmietana}) = \\frac{0}{5} = 0$\n",
    "\n",
    "####  Confidence\n",
    "Prawdopodobieństwo że klient który kupił produkt A, kupi też produkt B.\n",
    "\n",
    "$$conf(A \\rightarrow B) = \\frac{\\text{# transakcji zawierających A i B}}{\\text{# transakcji z A}}$$\n",
    "\n",
    "$supp({Jajka} \\rightarrow {Mleko}) = \\frac{2}{3} = 0.67$\n",
    "\n",
    "$supp({Mąka} \\rightarrow {Mleko}) = \\frac{2}{4} = 0.5$\n",
    "\n",
    "$supp({Mleko} \\rightarrow {Mąka}) = \\frac{2}{3} = 0.67$\n",
    "\n",
    "$supp({Mleko, Jajka} \\rightarrow {Mąka}) = \\frac{1}{2} = 0.5$\n",
    "\n",
    "#### Lift\n",
    "Procentowe zwiększenie sprzedaży produktu A kiedy sprzedajemy też B. \"Prawdopodobieństwo\" że klient kupi A i B razem jest LIFT razy większe niż kupienie produktów A i B osobno.\n",
    "\n",
    "$$LIFT(A \\rightarrow B) = \\frac{conf(A \\rightarrow B)}{supp(B)}$$\n",
    "\n",
    "- $LIFT = 1$ - nie ma reakcji dla tych produktów\n",
    "- $LIFT > 1$ - pozytywna korelacja, produkty A i B są cześciej kupowane razem\n",
    "- $LIFT < 1$ - negatywna koerlacja, produkty A i B nie są kupowane razem\n",
    "\n",
    "$LIFT({Jajka}\\rightarrow {Mleko}) = \\frac{0.67}{0.6} = 1.12$\n",
    "\n",
    "$LIFT({Mąka}\\rightarrow {Mleko}) = \\frac{0.5}{0.6} = 0.83$\n",
    "\n",
    "$LIFT({Mleko} \\rightarrow {Mąka}) = \\frac{0.67}{0.8} = 0.84$\n",
    "\n",
    "$LIFT({Mleko, Jajka} \\rightarrow {Mąka}) = \\frac{0.5}{0.4} = 1.25$"
   ]
  },
  {
   "cell_type": "markdown",
   "metadata": {},
   "source": [
    "#### Działanie algorytmu\n",
    "1. Policzenie supportu dla wszystkich podzbiorów produktów **- mocno wymagające obliczeniowo - cały zbiór danych**.\n",
    "2. Wygenerowanie listy częstych podzbiorów z $supp > supp\\_threshold$.\n",
    "3. Policzenie confidence dla wszystkich częstych podzbiorów produktów.\n",
    "4. Wygenerowanie listy częstych podzbiorów z confidence $conf > conf\\_threshold$.\n",
    "\n",
    "Jak można poradzić sobie ze złożonością obliczeniową?\n",
    "- wykorzystanie głównego założenia algorytmu o częstości występowania podzbiorów\n",
    "![image.png](https://miro.medium.com/max/1400/0*lRpX-OdvnrK3pQyu.png)\n",
    "- usunięcie transakcji nie zawierających \"częstych\" produktów\n",
    "- partycjonowanie/samplowanie bazy danych"
   ]
  },
  {
   "cell_type": "markdown",
   "metadata": {},
   "source": [
    "#### Przykładowe dane"
   ]
  },
  {
   "cell_type": "code",
   "execution_count": 94,
   "metadata": {
    "ExecuteTime": {
     "end_time": "2020-06-15T15:26:31.163206Z",
     "start_time": "2020-06-15T15:26:31.155492Z"
    }
   },
   "outputs": [],
   "source": [
    "import networkx as nx\n",
    "import numpy as np\n",
    "import pandas as pd\n",
    "import matplotlib.pyplot as plt"
   ]
  },
  {
   "cell_type": "code",
   "execution_count": 95,
   "metadata": {
    "ExecuteTime": {
     "end_time": "2020-06-15T15:26:31.461923Z",
     "start_time": "2020-06-15T15:26:31.435566Z"
    }
   },
   "outputs": [
    {
     "data": {
      "text/plain": [
       "(7501, 20)"
      ]
     },
     "execution_count": 95,
     "metadata": {},
     "output_type": "execute_result"
    }
   ],
   "source": [
    "data = pd.read_csv('transactions.csv', header = None)\n",
    "\n",
    "# let's check the shape of the dataset\n",
    "data.shape"
   ]
  },
  {
   "cell_type": "code",
   "execution_count": 96,
   "metadata": {
    "ExecuteTime": {
     "end_time": "2020-06-15T15:26:32.313710Z",
     "start_time": "2020-06-15T15:26:32.299910Z"
    }
   },
   "outputs": [
    {
     "data": {
      "text/html": [
       "<div>\n",
       "<style scoped>\n",
       "    .dataframe tbody tr th:only-of-type {\n",
       "        vertical-align: middle;\n",
       "    }\n",
       "\n",
       "    .dataframe tbody tr th {\n",
       "        vertical-align: top;\n",
       "    }\n",
       "\n",
       "    .dataframe thead th {\n",
       "        text-align: right;\n",
       "    }\n",
       "</style>\n",
       "<table border=\"1\" class=\"dataframe\">\n",
       "  <thead>\n",
       "    <tr style=\"text-align: right;\">\n",
       "      <th></th>\n",
       "      <th>0</th>\n",
       "      <th>1</th>\n",
       "      <th>2</th>\n",
       "      <th>3</th>\n",
       "      <th>4</th>\n",
       "      <th>5</th>\n",
       "      <th>6</th>\n",
       "      <th>7</th>\n",
       "      <th>8</th>\n",
       "      <th>9</th>\n",
       "      <th>10</th>\n",
       "      <th>11</th>\n",
       "      <th>12</th>\n",
       "      <th>13</th>\n",
       "      <th>14</th>\n",
       "      <th>15</th>\n",
       "      <th>16</th>\n",
       "      <th>17</th>\n",
       "      <th>18</th>\n",
       "      <th>19</th>\n",
       "    </tr>\n",
       "  </thead>\n",
       "  <tbody>\n",
       "    <tr>\n",
       "      <th>0</th>\n",
       "      <td>shrimp</td>\n",
       "      <td>almonds</td>\n",
       "      <td>avocado</td>\n",
       "      <td>vegetables mix</td>\n",
       "      <td>green grapes</td>\n",
       "      <td>whole weat flour</td>\n",
       "      <td>yams</td>\n",
       "      <td>cottage cheese</td>\n",
       "      <td>energy drink</td>\n",
       "      <td>tomato juice</td>\n",
       "      <td>low fat yogurt</td>\n",
       "      <td>green tea</td>\n",
       "      <td>honey</td>\n",
       "      <td>salad</td>\n",
       "      <td>mineral water</td>\n",
       "      <td>salmon</td>\n",
       "      <td>antioxydant juice</td>\n",
       "      <td>frozen smoothie</td>\n",
       "      <td>spinach</td>\n",
       "      <td>olive oil</td>\n",
       "    </tr>\n",
       "    <tr>\n",
       "      <th>1</th>\n",
       "      <td>burgers</td>\n",
       "      <td>meatballs</td>\n",
       "      <td>eggs</td>\n",
       "      <td>NaN</td>\n",
       "      <td>NaN</td>\n",
       "      <td>NaN</td>\n",
       "      <td>NaN</td>\n",
       "      <td>NaN</td>\n",
       "      <td>NaN</td>\n",
       "      <td>NaN</td>\n",
       "      <td>NaN</td>\n",
       "      <td>NaN</td>\n",
       "      <td>NaN</td>\n",
       "      <td>NaN</td>\n",
       "      <td>NaN</td>\n",
       "      <td>NaN</td>\n",
       "      <td>NaN</td>\n",
       "      <td>NaN</td>\n",
       "      <td>NaN</td>\n",
       "      <td>NaN</td>\n",
       "    </tr>\n",
       "    <tr>\n",
       "      <th>2</th>\n",
       "      <td>chutney</td>\n",
       "      <td>NaN</td>\n",
       "      <td>NaN</td>\n",
       "      <td>NaN</td>\n",
       "      <td>NaN</td>\n",
       "      <td>NaN</td>\n",
       "      <td>NaN</td>\n",
       "      <td>NaN</td>\n",
       "      <td>NaN</td>\n",
       "      <td>NaN</td>\n",
       "      <td>NaN</td>\n",
       "      <td>NaN</td>\n",
       "      <td>NaN</td>\n",
       "      <td>NaN</td>\n",
       "      <td>NaN</td>\n",
       "      <td>NaN</td>\n",
       "      <td>NaN</td>\n",
       "      <td>NaN</td>\n",
       "      <td>NaN</td>\n",
       "      <td>NaN</td>\n",
       "    </tr>\n",
       "    <tr>\n",
       "      <th>3</th>\n",
       "      <td>turkey</td>\n",
       "      <td>avocado</td>\n",
       "      <td>NaN</td>\n",
       "      <td>NaN</td>\n",
       "      <td>NaN</td>\n",
       "      <td>NaN</td>\n",
       "      <td>NaN</td>\n",
       "      <td>NaN</td>\n",
       "      <td>NaN</td>\n",
       "      <td>NaN</td>\n",
       "      <td>NaN</td>\n",
       "      <td>NaN</td>\n",
       "      <td>NaN</td>\n",
       "      <td>NaN</td>\n",
       "      <td>NaN</td>\n",
       "      <td>NaN</td>\n",
       "      <td>NaN</td>\n",
       "      <td>NaN</td>\n",
       "      <td>NaN</td>\n",
       "      <td>NaN</td>\n",
       "    </tr>\n",
       "    <tr>\n",
       "      <th>4</th>\n",
       "      <td>mineral water</td>\n",
       "      <td>milk</td>\n",
       "      <td>energy bar</td>\n",
       "      <td>whole wheat rice</td>\n",
       "      <td>green tea</td>\n",
       "      <td>NaN</td>\n",
       "      <td>NaN</td>\n",
       "      <td>NaN</td>\n",
       "      <td>NaN</td>\n",
       "      <td>NaN</td>\n",
       "      <td>NaN</td>\n",
       "      <td>NaN</td>\n",
       "      <td>NaN</td>\n",
       "      <td>NaN</td>\n",
       "      <td>NaN</td>\n",
       "      <td>NaN</td>\n",
       "      <td>NaN</td>\n",
       "      <td>NaN</td>\n",
       "      <td>NaN</td>\n",
       "      <td>NaN</td>\n",
       "    </tr>\n",
       "  </tbody>\n",
       "</table>\n",
       "</div>"
      ],
      "text/plain": [
       "              0          1           2                 3             4   \\\n",
       "0         shrimp    almonds     avocado    vegetables mix  green grapes   \n",
       "1        burgers  meatballs        eggs               NaN           NaN   \n",
       "2        chutney        NaN         NaN               NaN           NaN   \n",
       "3         turkey    avocado         NaN               NaN           NaN   \n",
       "4  mineral water       milk  energy bar  whole wheat rice     green tea   \n",
       "\n",
       "                 5     6               7             8             9   \\\n",
       "0  whole weat flour  yams  cottage cheese  energy drink  tomato juice   \n",
       "1               NaN   NaN             NaN           NaN           NaN   \n",
       "2               NaN   NaN             NaN           NaN           NaN   \n",
       "3               NaN   NaN             NaN           NaN           NaN   \n",
       "4               NaN   NaN             NaN           NaN           NaN   \n",
       "\n",
       "               10         11     12     13             14      15  \\\n",
       "0  low fat yogurt  green tea  honey  salad  mineral water  salmon   \n",
       "1             NaN        NaN    NaN    NaN            NaN     NaN   \n",
       "2             NaN        NaN    NaN    NaN            NaN     NaN   \n",
       "3             NaN        NaN    NaN    NaN            NaN     NaN   \n",
       "4             NaN        NaN    NaN    NaN            NaN     NaN   \n",
       "\n",
       "                  16               17       18         19  \n",
       "0  antioxydant juice  frozen smoothie  spinach  olive oil  \n",
       "1                NaN              NaN      NaN        NaN  \n",
       "2                NaN              NaN      NaN        NaN  \n",
       "3                NaN              NaN      NaN        NaN  \n",
       "4                NaN              NaN      NaN        NaN  "
      ]
     },
     "execution_count": 96,
     "metadata": {},
     "output_type": "execute_result"
    }
   ],
   "source": [
    "data.head()"
   ]
  },
  {
   "cell_type": "code",
   "execution_count": 97,
   "metadata": {
    "ExecuteTime": {
     "end_time": "2020-06-15T15:26:32.820741Z",
     "start_time": "2020-06-15T15:26:32.524302Z"
    }
   },
   "outputs": [
    {
     "data": {
      "image/png": "[encoded data removed]",
      "text/plain": [
       "<Figure size 1296x504 with 1 Axes>"
      ]
     },
     "metadata": {
      "needs_background": "light"
     },
     "output_type": "display_data"
    }
   ],
   "source": [
    "plt.rcParams['figure.figsize'] = (18, 7)\n",
    "color = plt.cm.copper(np.linspace(0, 1, 40))\n",
    "data[0].value_counts().head(40).plot.bar(color = color)\n",
    "plt.title('frequency of most popular items', fontsize = 20)\n",
    "plt.xticks(rotation = 90 )\n",
    "plt.show()"
   ]
  },
  {
   "cell_type": "code",
   "execution_count": 98,
   "metadata": {
    "ExecuteTime": {
     "end_time": "2020-06-15T15:26:32.999988Z",
     "start_time": "2020-06-15T15:26:32.821971Z"
    }
   },
   "outputs": [
    {
     "name": "stderr",
     "output_type": "stream",
     "text": [
      "/home/kaketo/anaconda3/lib/python3.7/site-packages/networkx/drawing/nx_pylab.py:579: MatplotlibDeprecationWarning: \n",
      "The iterable function was deprecated in Matplotlib 3.1 and will be removed in 3.3. Use np.iterable instead.\n",
      "  if not cb.iterable(width):\n"
     ]
    },
    {
     "data": {
      "image/png": "[encoded data removed]",
      "text/plain": [
       "<Figure size 720x720 with 1 Axes>"
      ]
     },
     "metadata": {},
     "output_type": "display_data"
    }
   ],
   "source": [
    "data['food'] = 'Food'\n",
    "food = data.truncate(before = -1, after = 15)\n",
    "food = nx.from_pandas_edgelist(food, source = 'food', target = 0, edge_attr = True)\n",
    "\n",
    "plt.rcParams['figure.figsize'] = (10, 10)\n",
    "pos = nx.spring_layout(food)\n",
    "color = plt.cm.Wistia(np.linspace(0, 15, 1))\n",
    "nx.draw_networkx_nodes(food, pos, node_size = 1500, node_color = color)\n",
    "nx.draw_networkx_edges(food, pos, width = 3, alpha = 0.6, edge_color = 'black')\n",
    "nx.draw_networkx_labels(food, pos, font_size = 14, font_family = 'sans-serif')\n",
    "plt.axis('off')\n",
    "plt.grid()\n",
    "plt.title('Top 15 First Choices', fontsize = 20)\n",
    "plt.show()"
   ]
  },
  {
   "cell_type": "code",
   "execution_count": 99,
   "metadata": {
    "ExecuteTime": {
     "end_time": "2020-06-15T15:26:33.173791Z",
     "start_time": "2020-06-15T15:26:33.001149Z"
    }
   },
   "outputs": [
    {
     "data": {
      "image/png": "[encoded data removed]",
      "text/plain": [
       "<Figure size 720x720 with 1 Axes>"
      ]
     },
     "metadata": {},
     "output_type": "display_data"
    }
   ],
   "source": [
    "data['secondchoice'] = 'Second Choice'\n",
    "secondchoice = data.truncate(before = -1, after = 15)\n",
    "secondchoice = nx.from_pandas_edgelist(secondchoice, source = 'food', target = 1, edge_attr = True)\n",
    "\n",
    "plt.rcParams['figure.figsize'] = (10, 10)\n",
    "pos = nx.spring_layout(secondchoice)\n",
    "color = plt.cm.Blues(np.linspace(0, 15, 1))\n",
    "nx.draw_networkx_nodes(secondchoice, pos, node_size = 1500, node_color = color)\n",
    "nx.draw_networkx_edges(secondchoice, pos, width = 3, alpha = 0.6, edge_color = 'brown')\n",
    "nx.draw_networkx_labels(secondchoice, pos, font_size = 14, font_family = 'sans-serif')\n",
    "plt.axis('off')\n",
    "plt.grid()\n",
    "plt.title('Top 15 Second Choices', fontsize = 20)\n",
    "plt.show()"
   ]
  },
  {
   "cell_type": "markdown",
   "metadata": {},
   "source": [
    "##### biblioteka apyori"
   ]
  },
  {
   "cell_type": "code",
   "execution_count": 100,
   "metadata": {
    "ExecuteTime": {
     "end_time": "2020-06-15T15:26:33.874292Z",
     "start_time": "2020-06-15T15:26:33.868166Z"
    }
   },
   "outputs": [],
   "source": [
    "from apyori import apriori"
   ]
  },
  {
   "cell_type": "code",
   "execution_count": 101,
   "metadata": {
    "ExecuteTime": {
     "end_time": "2020-06-15T15:26:36.641988Z",
     "start_time": "2020-06-15T15:26:35.763195Z"
    }
   },
   "outputs": [
    {
     "name": "stdout",
     "output_type": "stream",
     "text": [
      "(7501, 20)\n"
     ]
    }
   ],
   "source": [
    "# making each customers shopping items an identical list\n",
    "trans = []\n",
    "for i in range(0, 7501):\n",
    "    trans.append([str(data.values[i,j]) for j in range(0, 20)])\n",
    "\n",
    "# conveting it into an numpy array\n",
    "trans = np.array(trans)\n",
    "\n",
    "# checking the shape of the array\n",
    "print(trans.shape)"
   ]
  },
  {
   "cell_type": "code",
   "execution_count": 102,
   "metadata": {
    "ExecuteTime": {
     "end_time": "2020-06-15T15:26:36.646136Z",
     "start_time": "2020-06-15T15:26:36.643228Z"
    }
   },
   "outputs": [
    {
     "data": {
      "text/plain": [
       "array([['shrimp', 'almonds', 'avocado', ..., 'frozen smoothie',\n",
       "        'spinach', 'olive oil'],\n",
       "       ['burgers', 'meatballs', 'eggs', ..., 'nan', 'nan', 'nan'],\n",
       "       ['chutney', 'nan', 'nan', ..., 'nan', 'nan', 'nan'],\n",
       "       ...,\n",
       "       ['chicken', 'nan', 'nan', ..., 'nan', 'nan', 'nan'],\n",
       "       ['escalope', 'green tea', 'nan', ..., 'nan', 'nan', 'nan'],\n",
       "       ['eggs', 'frozen smoothie', 'yogurt cake', ..., 'nan', 'nan',\n",
       "        'nan']], dtype='<U20')"
      ]
     },
     "execution_count": 102,
     "metadata": {},
     "output_type": "execute_result"
    }
   ],
   "source": [
    "trans"
   ]
  },
  {
   "cell_type": "code",
   "execution_count": 103,
   "metadata": {
    "ExecuteTime": {
     "end_time": "2020-06-15T15:26:37.418474Z",
     "start_time": "2020-06-15T15:26:37.321687Z"
    }
   },
   "outputs": [
    {
     "data": {
      "text/plain": [
       "[RelationRecord(items=frozenset({'spaghetti', 'mineral water'}), support=0.05972536995067324, ordered_statistics=[OrderedStatistic(items_base=frozenset({'mineral water'}), items_add=frozenset({'spaghetti'}), confidence=0.2505592841163311, lift=1.4390851379453289), OrderedStatistic(items_base=frozenset({'spaghetti'}), items_add=frozenset({'mineral water'}), confidence=0.3430321592649311, lift=1.4390851379453289)]),\n",
       " RelationRecord(items=frozenset({'spaghetti', 'mineral water', 'nan'}), support=0.05972536995067324, ordered_statistics=[OrderedStatistic(items_base=frozenset({'mineral water'}), items_add=frozenset({'spaghetti', 'nan'}), confidence=0.2505592841163311, lift=1.4390851379453289), OrderedStatistic(items_base=frozenset({'spaghetti'}), items_add=frozenset({'mineral water', 'nan'}), confidence=0.3430321592649311, lift=1.439890445800922), OrderedStatistic(items_base=frozenset({'mineral water', 'nan'}), items_add=frozenset({'spaghetti'}), confidence=0.2506994963626189, lift=1.4398904458009223), OrderedStatistic(items_base=frozenset({'spaghetti', 'nan'}), items_add=frozenset({'mineral water'}), confidence=0.3430321592649311, lift=1.4390851379453289)])]"
      ]
     },
     "execution_count": 103,
     "metadata": {},
     "output_type": "execute_result"
    }
   ],
   "source": [
    "rules = apriori(trans, \n",
    "                min_support = 0.055, \n",
    "                min_confidence = 0.2,\n",
    "                min_lift = 1.1, \n",
    "                min_length = 4)\n",
    "\n",
    "rules = list(rules)\n",
    "rules"
   ]
  },
  {
   "cell_type": "code",
   "execution_count": 104,
   "metadata": {
    "ExecuteTime": {
     "end_time": "2020-06-15T15:26:39.223572Z",
     "start_time": "2020-06-15T15:26:39.218272Z"
    }
   },
   "outputs": [
    {
     "data": {
      "text/plain": [
       "RelationRecord(items=frozenset({'spaghetti', 'mineral water'}), support=0.05972536995067324, ordered_statistics=[OrderedStatistic(items_base=frozenset({'mineral water'}), items_add=frozenset({'spaghetti'}), confidence=0.2505592841163311, lift=1.4390851379453289), OrderedStatistic(items_base=frozenset({'spaghetti'}), items_add=frozenset({'mineral water'}), confidence=0.3430321592649311, lift=1.4390851379453289)])"
      ]
     },
     "execution_count": 104,
     "metadata": {},
     "output_type": "execute_result"
    }
   ],
   "source": [
    "rules[0]"
   ]
  },
  {
   "cell_type": "code",
   "execution_count": 115,
   "metadata": {
    "ExecuteTime": {
     "end_time": "2020-06-15T15:54:59.005819Z",
     "start_time": "2020-06-15T15:54:58.999955Z"
    }
   },
   "outputs": [
    {
     "data": {
      "text/plain": [
       "(frozenset({'mineral water', 'spaghetti'}), 0.05972536995067324)"
      ]
     },
     "execution_count": 115,
     "metadata": {},
     "output_type": "execute_result"
    }
   ],
   "source": [
    "rules[0].items, rules[0].support"
   ]
  },
  {
   "cell_type": "markdown",
   "metadata": {},
   "source": [
    "##### biblioteka mlxtend"
   ]
  },
  {
   "cell_type": "code",
   "execution_count": 119,
   "metadata": {
    "ExecuteTime": {
     "end_time": "2020-06-15T15:55:51.553430Z",
     "start_time": "2020-06-15T15:55:51.408657Z"
    }
   },
   "outputs": [
    {
     "data": {
      "text/plain": [
       "(7501, 121)"
      ]
     },
     "execution_count": 119,
     "metadata": {},
     "output_type": "execute_result"
    }
   ],
   "source": [
    "from mlxtend.preprocessing import TransactionEncoder\n",
    "\n",
    "te = TransactionEncoder()\n",
    "trans2 = te.fit_transform(trans)\n",
    "trans2 = pd.DataFrame(trans2, columns = te.columns_)\n",
    "\n",
    "# getting the shape of the data\n",
    "trans2.shape"
   ]
  },
  {
   "cell_type": "code",
   "execution_count": 120,
   "metadata": {
    "ExecuteTime": {
     "end_time": "2020-06-15T15:55:51.755835Z",
     "start_time": "2020-06-15T15:55:51.721203Z"
    }
   },
   "outputs": [
    {
     "data": {
      "text/html": [
       "<div>\n",
       "<style scoped>\n",
       "    .dataframe tbody tr th:only-of-type {\n",
       "        vertical-align: middle;\n",
       "    }\n",
       "\n",
       "    .dataframe tbody tr th {\n",
       "        vertical-align: top;\n",
       "    }\n",
       "\n",
       "    .dataframe thead th {\n",
       "        text-align: right;\n",
       "    }\n",
       "</style>\n",
       "<table border=\"1\" class=\"dataframe\">\n",
       "  <thead>\n",
       "    <tr style=\"text-align: right;\">\n",
       "      <th></th>\n",
       "      <th>asparagus</th>\n",
       "      <th>almonds</th>\n",
       "      <th>antioxydant juice</th>\n",
       "      <th>asparagus</th>\n",
       "      <th>avocado</th>\n",
       "      <th>babies food</th>\n",
       "      <th>bacon</th>\n",
       "      <th>barbecue sauce</th>\n",
       "      <th>black tea</th>\n",
       "      <th>blueberries</th>\n",
       "      <th>...</th>\n",
       "      <th>turkey</th>\n",
       "      <th>vegetables mix</th>\n",
       "      <th>water spray</th>\n",
       "      <th>white wine</th>\n",
       "      <th>whole weat flour</th>\n",
       "      <th>whole wheat pasta</th>\n",
       "      <th>whole wheat rice</th>\n",
       "      <th>yams</th>\n",
       "      <th>yogurt cake</th>\n",
       "      <th>zucchini</th>\n",
       "    </tr>\n",
       "  </thead>\n",
       "  <tbody>\n",
       "    <tr>\n",
       "      <th>0</th>\n",
       "      <td>False</td>\n",
       "      <td>True</td>\n",
       "      <td>True</td>\n",
       "      <td>False</td>\n",
       "      <td>True</td>\n",
       "      <td>False</td>\n",
       "      <td>False</td>\n",
       "      <td>False</td>\n",
       "      <td>False</td>\n",
       "      <td>False</td>\n",
       "      <td>...</td>\n",
       "      <td>False</td>\n",
       "      <td>True</td>\n",
       "      <td>False</td>\n",
       "      <td>False</td>\n",
       "      <td>True</td>\n",
       "      <td>False</td>\n",
       "      <td>False</td>\n",
       "      <td>True</td>\n",
       "      <td>False</td>\n",
       "      <td>False</td>\n",
       "    </tr>\n",
       "    <tr>\n",
       "      <th>1</th>\n",
       "      <td>False</td>\n",
       "      <td>False</td>\n",
       "      <td>False</td>\n",
       "      <td>False</td>\n",
       "      <td>False</td>\n",
       "      <td>False</td>\n",
       "      <td>False</td>\n",
       "      <td>False</td>\n",
       "      <td>False</td>\n",
       "      <td>False</td>\n",
       "      <td>...</td>\n",
       "      <td>False</td>\n",
       "      <td>False</td>\n",
       "      <td>False</td>\n",
       "      <td>False</td>\n",
       "      <td>False</td>\n",
       "      <td>False</td>\n",
       "      <td>False</td>\n",
       "      <td>False</td>\n",
       "      <td>False</td>\n",
       "      <td>False</td>\n",
       "    </tr>\n",
       "    <tr>\n",
       "      <th>2</th>\n",
       "      <td>False</td>\n",
       "      <td>False</td>\n",
       "      <td>False</td>\n",
       "      <td>False</td>\n",
       "      <td>False</td>\n",
       "      <td>False</td>\n",
       "      <td>False</td>\n",
       "      <td>False</td>\n",
       "      <td>False</td>\n",
       "      <td>False</td>\n",
       "      <td>...</td>\n",
       "      <td>False</td>\n",
       "      <td>False</td>\n",
       "      <td>False</td>\n",
       "      <td>False</td>\n",
       "      <td>False</td>\n",
       "      <td>False</td>\n",
       "      <td>False</td>\n",
       "      <td>False</td>\n",
       "      <td>False</td>\n",
       "      <td>False</td>\n",
       "    </tr>\n",
       "    <tr>\n",
       "      <th>3</th>\n",
       "      <td>False</td>\n",
       "      <td>False</td>\n",
       "      <td>False</td>\n",
       "      <td>False</td>\n",
       "      <td>True</td>\n",
       "      <td>False</td>\n",
       "      <td>False</td>\n",
       "      <td>False</td>\n",
       "      <td>False</td>\n",
       "      <td>False</td>\n",
       "      <td>...</td>\n",
       "      <td>True</td>\n",
       "      <td>False</td>\n",
       "      <td>False</td>\n",
       "      <td>False</td>\n",
       "      <td>False</td>\n",
       "      <td>False</td>\n",
       "      <td>False</td>\n",
       "      <td>False</td>\n",
       "      <td>False</td>\n",
       "      <td>False</td>\n",
       "    </tr>\n",
       "    <tr>\n",
       "      <th>4</th>\n",
       "      <td>False</td>\n",
       "      <td>False</td>\n",
       "      <td>False</td>\n",
       "      <td>False</td>\n",
       "      <td>False</td>\n",
       "      <td>False</td>\n",
       "      <td>False</td>\n",
       "      <td>False</td>\n",
       "      <td>False</td>\n",
       "      <td>False</td>\n",
       "      <td>...</td>\n",
       "      <td>False</td>\n",
       "      <td>False</td>\n",
       "      <td>False</td>\n",
       "      <td>False</td>\n",
       "      <td>False</td>\n",
       "      <td>False</td>\n",
       "      <td>True</td>\n",
       "      <td>False</td>\n",
       "      <td>False</td>\n",
       "      <td>False</td>\n",
       "    </tr>\n",
       "    <tr>\n",
       "      <th>...</th>\n",
       "      <td>...</td>\n",
       "      <td>...</td>\n",
       "      <td>...</td>\n",
       "      <td>...</td>\n",
       "      <td>...</td>\n",
       "      <td>...</td>\n",
       "      <td>...</td>\n",
       "      <td>...</td>\n",
       "      <td>...</td>\n",
       "      <td>...</td>\n",
       "      <td>...</td>\n",
       "      <td>...</td>\n",
       "      <td>...</td>\n",
       "      <td>...</td>\n",
       "      <td>...</td>\n",
       "      <td>...</td>\n",
       "      <td>...</td>\n",
       "      <td>...</td>\n",
       "      <td>...</td>\n",
       "      <td>...</td>\n",
       "      <td>...</td>\n",
       "    </tr>\n",
       "    <tr>\n",
       "      <th>7496</th>\n",
       "      <td>False</td>\n",
       "      <td>False</td>\n",
       "      <td>False</td>\n",
       "      <td>False</td>\n",
       "      <td>False</td>\n",
       "      <td>False</td>\n",
       "      <td>False</td>\n",
       "      <td>False</td>\n",
       "      <td>False</td>\n",
       "      <td>False</td>\n",
       "      <td>...</td>\n",
       "      <td>False</td>\n",
       "      <td>False</td>\n",
       "      <td>False</td>\n",
       "      <td>False</td>\n",
       "      <td>False</td>\n",
       "      <td>False</td>\n",
       "      <td>False</td>\n",
       "      <td>False</td>\n",
       "      <td>False</td>\n",
       "      <td>False</td>\n",
       "    </tr>\n",
       "    <tr>\n",
       "      <th>7497</th>\n",
       "      <td>False</td>\n",
       "      <td>False</td>\n",
       "      <td>False</td>\n",
       "      <td>False</td>\n",
       "      <td>False</td>\n",
       "      <td>False</td>\n",
       "      <td>False</td>\n",
       "      <td>False</td>\n",
       "      <td>False</td>\n",
       "      <td>False</td>\n",
       "      <td>...</td>\n",
       "      <td>False</td>\n",
       "      <td>False</td>\n",
       "      <td>False</td>\n",
       "      <td>False</td>\n",
       "      <td>False</td>\n",
       "      <td>False</td>\n",
       "      <td>False</td>\n",
       "      <td>False</td>\n",
       "      <td>False</td>\n",
       "      <td>False</td>\n",
       "    </tr>\n",
       "    <tr>\n",
       "      <th>7498</th>\n",
       "      <td>False</td>\n",
       "      <td>False</td>\n",
       "      <td>False</td>\n",
       "      <td>False</td>\n",
       "      <td>False</td>\n",
       "      <td>False</td>\n",
       "      <td>False</td>\n",
       "      <td>False</td>\n",
       "      <td>False</td>\n",
       "      <td>False</td>\n",
       "      <td>...</td>\n",
       "      <td>False</td>\n",
       "      <td>False</td>\n",
       "      <td>False</td>\n",
       "      <td>False</td>\n",
       "      <td>False</td>\n",
       "      <td>False</td>\n",
       "      <td>False</td>\n",
       "      <td>False</td>\n",
       "      <td>False</td>\n",
       "      <td>False</td>\n",
       "    </tr>\n",
       "    <tr>\n",
       "      <th>7499</th>\n",
       "      <td>False</td>\n",
       "      <td>False</td>\n",
       "      <td>False</td>\n",
       "      <td>False</td>\n",
       "      <td>False</td>\n",
       "      <td>False</td>\n",
       "      <td>False</td>\n",
       "      <td>False</td>\n",
       "      <td>False</td>\n",
       "      <td>False</td>\n",
       "      <td>...</td>\n",
       "      <td>False</td>\n",
       "      <td>False</td>\n",
       "      <td>False</td>\n",
       "      <td>False</td>\n",
       "      <td>False</td>\n",
       "      <td>False</td>\n",
       "      <td>False</td>\n",
       "      <td>False</td>\n",
       "      <td>False</td>\n",
       "      <td>False</td>\n",
       "    </tr>\n",
       "    <tr>\n",
       "      <th>7500</th>\n",
       "      <td>False</td>\n",
       "      <td>False</td>\n",
       "      <td>False</td>\n",
       "      <td>False</td>\n",
       "      <td>False</td>\n",
       "      <td>False</td>\n",
       "      <td>False</td>\n",
       "      <td>False</td>\n",
       "      <td>False</td>\n",
       "      <td>False</td>\n",
       "      <td>...</td>\n",
       "      <td>False</td>\n",
       "      <td>False</td>\n",
       "      <td>False</td>\n",
       "      <td>False</td>\n",
       "      <td>False</td>\n",
       "      <td>False</td>\n",
       "      <td>False</td>\n",
       "      <td>False</td>\n",
       "      <td>True</td>\n",
       "      <td>False</td>\n",
       "    </tr>\n",
       "  </tbody>\n",
       "</table>\n",
       "<p>7501 rows × 120 columns</p>\n",
       "</div>"
      ],
      "text/plain": [
       "       asparagus  almonds  antioxydant juice  asparagus  avocado  babies food  \\\n",
       "0          False     True               True      False     True        False   \n",
       "1          False    False              False      False    False        False   \n",
       "2          False    False              False      False    False        False   \n",
       "3          False    False              False      False     True        False   \n",
       "4          False    False              False      False    False        False   \n",
       "...          ...      ...                ...        ...      ...          ...   \n",
       "7496       False    False              False      False    False        False   \n",
       "7497       False    False              False      False    False        False   \n",
       "7498       False    False              False      False    False        False   \n",
       "7499       False    False              False      False    False        False   \n",
       "7500       False    False              False      False    False        False   \n",
       "\n",
       "      bacon  barbecue sauce  black tea  blueberries  ...  turkey  \\\n",
       "0     False           False      False        False  ...   False   \n",
       "1     False           False      False        False  ...   False   \n",
       "2     False           False      False        False  ...   False   \n",
       "3     False           False      False        False  ...    True   \n",
       "4     False           False      False        False  ...   False   \n",
       "...     ...             ...        ...          ...  ...     ...   \n",
       "7496  False           False      False        False  ...   False   \n",
       "7497  False           False      False        False  ...   False   \n",
       "7498  False           False      False        False  ...   False   \n",
       "7499  False           False      False        False  ...   False   \n",
       "7500  False           False      False        False  ...   False   \n",
       "\n",
       "      vegetables mix  water spray  white wine  whole weat flour  \\\n",
       "0               True        False       False              True   \n",
       "1              False        False       False             False   \n",
       "2              False        False       False             False   \n",
       "3              False        False       False             False   \n",
       "4              False        False       False             False   \n",
       "...              ...          ...         ...               ...   \n",
       "7496           False        False       False             False   \n",
       "7497           False        False       False             False   \n",
       "7498           False        False       False             False   \n",
       "7499           False        False       False             False   \n",
       "7500           False        False       False             False   \n",
       "\n",
       "      whole wheat pasta  whole wheat rice   yams  yogurt cake  zucchini  \n",
       "0                 False             False   True        False     False  \n",
       "1                 False             False  False        False     False  \n",
       "2                 False             False  False        False     False  \n",
       "3                 False             False  False        False     False  \n",
       "4                 False              True  False        False     False  \n",
       "...                 ...               ...    ...          ...       ...  \n",
       "7496              False             False  False        False     False  \n",
       "7497              False             False  False        False     False  \n",
       "7498              False             False  False        False     False  \n",
       "7499              False             False  False        False     False  \n",
       "7500              False             False  False         True     False  \n",
       "\n",
       "[7501 rows x 120 columns]"
      ]
     },
     "execution_count": 120,
     "metadata": {},
     "output_type": "execute_result"
    }
   ],
   "source": [
    "trans2 = trans2.drop(['nan'], axis=1)\n",
    "trans2"
   ]
  },
  {
   "cell_type": "code",
   "execution_count": 125,
   "metadata": {
    "ExecuteTime": {
     "end_time": "2020-06-15T15:57:50.336847Z",
     "start_time": "2020-06-15T15:57:50.306232Z"
    }
   },
   "outputs": [
    {
     "data": {
      "text/html": [
       "<div>\n",
       "<style scoped>\n",
       "    .dataframe tbody tr th:only-of-type {\n",
       "        vertical-align: middle;\n",
       "    }\n",
       "\n",
       "    .dataframe tbody tr th {\n",
       "        vertical-align: top;\n",
       "    }\n",
       "\n",
       "    .dataframe thead th {\n",
       "        text-align: right;\n",
       "    }\n",
       "</style>\n",
       "<table border=\"1\" class=\"dataframe\">\n",
       "  <thead>\n",
       "    <tr style=\"text-align: right;\">\n",
       "      <th></th>\n",
       "      <th>support</th>\n",
       "      <th>itemsets</th>\n",
       "      <th>length</th>\n",
       "    </tr>\n",
       "  </thead>\n",
       "  <tbody>\n",
       "    <tr>\n",
       "      <th>16</th>\n",
       "      <td>0.238368</td>\n",
       "      <td>(mineral water)</td>\n",
       "      <td>1</td>\n",
       "    </tr>\n",
       "    <tr>\n",
       "      <th>6</th>\n",
       "      <td>0.179709</td>\n",
       "      <td>(eggs)</td>\n",
       "      <td>1</td>\n",
       "    </tr>\n",
       "    <tr>\n",
       "      <th>21</th>\n",
       "      <td>0.174110</td>\n",
       "      <td>(spaghetti)</td>\n",
       "      <td>1</td>\n",
       "    </tr>\n",
       "    <tr>\n",
       "      <th>8</th>\n",
       "      <td>0.170911</td>\n",
       "      <td>(french fries)</td>\n",
       "      <td>1</td>\n",
       "    </tr>\n",
       "    <tr>\n",
       "      <th>3</th>\n",
       "      <td>0.163845</td>\n",
       "      <td>(chocolate)</td>\n",
       "      <td>1</td>\n",
       "    </tr>\n",
       "    <tr>\n",
       "      <th>12</th>\n",
       "      <td>0.132116</td>\n",
       "      <td>(green tea)</td>\n",
       "      <td>1</td>\n",
       "    </tr>\n",
       "    <tr>\n",
       "      <th>15</th>\n",
       "      <td>0.129583</td>\n",
       "      <td>(milk)</td>\n",
       "      <td>1</td>\n",
       "    </tr>\n",
       "    <tr>\n",
       "      <th>13</th>\n",
       "      <td>0.098254</td>\n",
       "      <td>(ground beef)</td>\n",
       "      <td>1</td>\n",
       "    </tr>\n",
       "    <tr>\n",
       "      <th>10</th>\n",
       "      <td>0.095321</td>\n",
       "      <td>(frozen vegetables)</td>\n",
       "      <td>1</td>\n",
       "    </tr>\n",
       "    <tr>\n",
       "      <th>18</th>\n",
       "      <td>0.095054</td>\n",
       "      <td>(pancakes)</td>\n",
       "      <td>1</td>\n",
       "    </tr>\n",
       "    <tr>\n",
       "      <th>0</th>\n",
       "      <td>0.087188</td>\n",
       "      <td>(burgers)</td>\n",
       "      <td>1</td>\n",
       "    </tr>\n",
       "    <tr>\n",
       "      <th>1</th>\n",
       "      <td>0.081056</td>\n",
       "      <td>(cake)</td>\n",
       "      <td>1</td>\n",
       "    </tr>\n",
       "    <tr>\n",
       "      <th>4</th>\n",
       "      <td>0.080389</td>\n",
       "      <td>(cookies)</td>\n",
       "      <td>1</td>\n",
       "    </tr>\n",
       "    <tr>\n",
       "      <th>7</th>\n",
       "      <td>0.079323</td>\n",
       "      <td>(escalope)</td>\n",
       "      <td>1</td>\n",
       "    </tr>\n",
       "    <tr>\n",
       "      <th>14</th>\n",
       "      <td>0.076523</td>\n",
       "      <td>(low fat yogurt)</td>\n",
       "      <td>1</td>\n",
       "    </tr>\n",
       "    <tr>\n",
       "      <th>19</th>\n",
       "      <td>0.071457</td>\n",
       "      <td>(shrimp)</td>\n",
       "      <td>1</td>\n",
       "    </tr>\n",
       "    <tr>\n",
       "      <th>22</th>\n",
       "      <td>0.068391</td>\n",
       "      <td>(tomatoes)</td>\n",
       "      <td>1</td>\n",
       "    </tr>\n",
       "    <tr>\n",
       "      <th>17</th>\n",
       "      <td>0.065858</td>\n",
       "      <td>(olive oil)</td>\n",
       "      <td>1</td>\n",
       "    </tr>\n",
       "    <tr>\n",
       "      <th>9</th>\n",
       "      <td>0.063325</td>\n",
       "      <td>(frozen smoothie)</td>\n",
       "      <td>1</td>\n",
       "    </tr>\n",
       "    <tr>\n",
       "      <th>23</th>\n",
       "      <td>0.062525</td>\n",
       "      <td>(turkey)</td>\n",
       "      <td>1</td>\n",
       "    </tr>\n",
       "    <tr>\n",
       "      <th>2</th>\n",
       "      <td>0.059992</td>\n",
       "      <td>(chicken)</td>\n",
       "      <td>1</td>\n",
       "    </tr>\n",
       "    <tr>\n",
       "      <th>27</th>\n",
       "      <td>0.059725</td>\n",
       "      <td>(spaghetti, mineral water)</td>\n",
       "      <td>2</td>\n",
       "    </tr>\n",
       "    <tr>\n",
       "      <th>24</th>\n",
       "      <td>0.058526</td>\n",
       "      <td>(whole wheat rice)</td>\n",
       "      <td>1</td>\n",
       "    </tr>\n",
       "    <tr>\n",
       "      <th>25</th>\n",
       "      <td>0.052660</td>\n",
       "      <td>(mineral water, chocolate)</td>\n",
       "      <td>2</td>\n",
       "    </tr>\n",
       "    <tr>\n",
       "      <th>11</th>\n",
       "      <td>0.052393</td>\n",
       "      <td>(grated cheese)</td>\n",
       "      <td>1</td>\n",
       "    </tr>\n",
       "    <tr>\n",
       "      <th>5</th>\n",
       "      <td>0.051060</td>\n",
       "      <td>(cooking oil)</td>\n",
       "      <td>1</td>\n",
       "    </tr>\n",
       "    <tr>\n",
       "      <th>26</th>\n",
       "      <td>0.050927</td>\n",
       "      <td>(eggs, mineral water)</td>\n",
       "      <td>2</td>\n",
       "    </tr>\n",
       "    <tr>\n",
       "      <th>20</th>\n",
       "      <td>0.050527</td>\n",
       "      <td>(soup)</td>\n",
       "      <td>1</td>\n",
       "    </tr>\n",
       "  </tbody>\n",
       "</table>\n",
       "</div>"
      ],
      "text/plain": [
       "     support                    itemsets  length\n",
       "16  0.238368             (mineral water)       1\n",
       "6   0.179709                      (eggs)       1\n",
       "21  0.174110                 (spaghetti)       1\n",
       "8   0.170911              (french fries)       1\n",
       "3   0.163845                 (chocolate)       1\n",
       "12  0.132116                 (green tea)       1\n",
       "15  0.129583                      (milk)       1\n",
       "13  0.098254               (ground beef)       1\n",
       "10  0.095321         (frozen vegetables)       1\n",
       "18  0.095054                  (pancakes)       1\n",
       "0   0.087188                   (burgers)       1\n",
       "1   0.081056                      (cake)       1\n",
       "4   0.080389                   (cookies)       1\n",
       "7   0.079323                  (escalope)       1\n",
       "14  0.076523            (low fat yogurt)       1\n",
       "19  0.071457                    (shrimp)       1\n",
       "22  0.068391                  (tomatoes)       1\n",
       "17  0.065858                 (olive oil)       1\n",
       "9   0.063325           (frozen smoothie)       1\n",
       "23  0.062525                    (turkey)       1\n",
       "2   0.059992                   (chicken)       1\n",
       "27  0.059725  (spaghetti, mineral water)       2\n",
       "24  0.058526          (whole wheat rice)       1\n",
       "25  0.052660  (mineral water, chocolate)       2\n",
       "11  0.052393             (grated cheese)       1\n",
       "5   0.051060               (cooking oil)       1\n",
       "26  0.050927       (eggs, mineral water)       2\n",
       "20  0.050527                      (soup)       1"
      ]
     },
     "execution_count": 125,
     "metadata": {},
     "output_type": "execute_result"
    }
   ],
   "source": [
    "from mlxtend.frequent_patterns import apriori\n",
    "\n",
    "#Now, let us return the items and itemsets with at least 5% support:\n",
    "rules2 = apriori(trans2, min_support = 0.05, use_colnames = True)\n",
    "\n",
    "rules2['length'] = rules2['itemsets'].apply(lambda x: len(x))\n",
    "rules2.sort_values(['support'], ascending=False)"
   ]
  },
  {
   "cell_type": "code",
   "execution_count": 126,
   "metadata": {
    "ExecuteTime": {
     "end_time": "2020-06-15T15:58:17.439567Z",
     "start_time": "2020-06-15T15:58:17.417176Z"
    }
   },
   "outputs": [
    {
     "data": {
      "text/html": [
       "<div>\n",
       "<style scoped>\n",
       "    .dataframe tbody tr th:only-of-type {\n",
       "        vertical-align: middle;\n",
       "    }\n",
       "\n",
       "    .dataframe tbody tr th {\n",
       "        vertical-align: top;\n",
       "    }\n",
       "\n",
       "    .dataframe thead th {\n",
       "        text-align: right;\n",
       "    }\n",
       "</style>\n",
       "<table border=\"1\" class=\"dataframe\">\n",
       "  <thead>\n",
       "    <tr style=\"text-align: right;\">\n",
       "      <th></th>\n",
       "      <th>support</th>\n",
       "      <th>itemsets</th>\n",
       "      <th>length</th>\n",
       "    </tr>\n",
       "  </thead>\n",
       "  <tbody>\n",
       "    <tr>\n",
       "      <th>25</th>\n",
       "      <td>0.052660</td>\n",
       "      <td>(mineral water, chocolate)</td>\n",
       "      <td>2</td>\n",
       "    </tr>\n",
       "    <tr>\n",
       "      <th>26</th>\n",
       "      <td>0.050927</td>\n",
       "      <td>(eggs, mineral water)</td>\n",
       "      <td>2</td>\n",
       "    </tr>\n",
       "    <tr>\n",
       "      <th>27</th>\n",
       "      <td>0.059725</td>\n",
       "      <td>(spaghetti, mineral water)</td>\n",
       "      <td>2</td>\n",
       "    </tr>\n",
       "  </tbody>\n",
       "</table>\n",
       "</div>"
      ],
      "text/plain": [
       "     support                    itemsets  length\n",
       "25  0.052660  (mineral water, chocolate)       2\n",
       "26  0.050927       (eggs, mineral water)       2\n",
       "27  0.059725  (spaghetti, mineral water)       2"
      ]
     },
     "execution_count": 126,
     "metadata": {},
     "output_type": "execute_result"
    }
   ],
   "source": [
    "rules2[(rules2['length'] == 2) &\n",
    "                   (rules2['support'] >= 0.01) ]"
   ]
  },
  {
   "attachments": {},
   "cell_type": "markdown",
   "metadata": {},
   "source": [
    "## Systemy rekomendacyjne\n",
    "Są to mechanizmy używane przez sklepy, dzięki którym klient, który odwiedza sklep internetowy, otrzymuje spersonalizowane zachęty zakupowe. Dzieje się tak, ponieważ silnik rekomendacji analizuje zachowania użytkownika w sieci: przeglądane strony i produkty, jakimi był zainteresowany.\n",
    "\n",
    "W czym może to pomóć?\n",
    "- Presonalizowane mailingi.\n",
    "- Klient otrzymuje oferty produktów o których nie wiem, a które potrzebuje.\n",
    "\n",
    "![image.png](./fig/reco_groups.png)"
   ]
  },
  {
   "attachments": {},
   "cell_type": "markdown",
   "metadata": {},
   "source": [
    "### Content - Based\n",
    "![image.png](./fig/content_reco_1.png)\n",
    "![image.png](./fig/content_reco_2.png)"
   ]
  },
  {
   "attachments": {},
   "cell_type": "markdown",
   "metadata": {},
   "source": [
    "### Collaborative Filtering\n",
    "![image.png](./fig/colla_reco_1.png)\n",
    "![image.png](./fig/colla_reco_2.png)\n",
    "![image.png](./fig/colla_reco_3.png)"
   ]
  },
  {
   "cell_type": "markdown",
   "metadata": {},
   "source": [
    "### Wady i zalety poszczególnych systemów\n",
    "##### Content-Based\n",
    "- rekomendacje są bardziej trafne i podobne do naszych upodobań\n",
    "- możemy rekomendować tylko kategorie np. filmów które już oglądaliśmy. Nie polecimy filmu animowanego osobie która nigdy żadnego nie oceniła\n",
    "- problem z nowymi użytkownikami \"cold start\"\n",
    "\n",
    "##### Collaborative Filtering\n",
    "- Wymagana ogromna ilośc RAM do przechowania macierzy ocen (dużo NULLi)\n",
    "- problem z nowymi użytkownikami \"cold start\"\n",
    "- skalowalność wraz ze wzrostem liczby użytkowników"
   ]
  },
  {
   "cell_type": "markdown",
   "metadata": {},
   "source": [
    "## Źródła\n",
    "https://towardsdatascience.com/market-basket-analysis-978ac064d8c6\n",
    "\n",
    "https://www.kaggle.com/roshansharma/market-basket-analysis\n",
    "\n",
    "https://www.kdnuggets.com/2019/11/content-based-recommender-using-natural-language-processing-nlp.html"
   ]
  }
 ],
 "metadata": {
  "kernelspec": {
   "display_name": "Python 3",
   "language": "python",
   "name": "python3"
  },
  "language_info": {
   "codemirror_mode": {
    "name": "ipython",
    "version": 3
   },
   "file_extension": ".py",
   "mimetype": "text/x-python",
   "name": "python",
   "nbconvert_exporter": "python",
   "pygments_lexer": "ipython3",
   "version": "3.7.7"
  },
  "toc": {
   "base_numbering": 1,
   "nav_menu": {},
   "number_sections": true,
   "sideBar": true,
   "skip_h1_title": false,
   "title_cell": "Table of Contents",
   "title_sidebar": "Contents",
   "toc_cell": false,
   "toc_position": {},
   "toc_section_display": true,
   "toc_window_display": false
  }
 },
 "nbformat": 4,
 "nbformat_minor": 4
}
